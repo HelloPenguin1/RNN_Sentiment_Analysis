{
 "cells": [
  {
   "cell_type": "code",
   "execution_count": 14,
   "id": "3dd94df7-64c5-4de7-b69a-687f30fd6a0e",
   "metadata": {},
   "outputs": [],
   "source": [
    "import numpy as np\n",
    "from numpy.random import seed\n",
    "seed(1)\n",
    "import matplotlib.pyplot as plt\n",
    "import pandas as pd\n",
    "import string  # Provides constants (like ascii_letters, digits, punctuation) and functions for string manipulation.\n",
    "import os      # Provides functions to interact with the operating system (e.g., working with files, directories).\n",
    "import shutil  # Provides functions to perform high-level file operations (e.g., copying, moving, deleting files).\n",
    "import re      # Provides support for regular expressions for string pattern matching and manipulation.\n",
    "\n",
    "\n",
    "import tensorflow as tf\n",
    "from keras.models import Sequential\n",
    "from keras.layers import SimpleRNN, Dense, Embedding\n",
    "from tensorflow.keras.layers import TextVectorization\n",
    "from keras.optimizers import Adam\n",
    "\n",
    "from sklearn.linear_model import LinearRegression"
   ]
  },
  {
   "cell_type": "code",
   "execution_count": 16,
   "id": "2481f82f-75d8-4f52-b7e2-46c5dc2f4011",
   "metadata": {},
   "outputs": [],
   "source": [
    "#generate sequence. \n",
    "sequence = np.array(list(range(10))).astype(float) #generate num 1-10, convert to python list, convert to numpy array, as floating type"
   ]
  },
  {
   "cell_type": "code",
   "execution_count": 18,
   "id": "99eeda58-9534-474b-9fd7-61f93a01dfd4",
   "metadata": {},
   "outputs": [
    {
     "data": {
      "text/plain": [
       "array([0., 1., 2., 3., 4., 5., 6., 7., 8., 9.])"
      ]
     },
     "execution_count": 18,
     "metadata": {},
     "output_type": "execute_result"
    }
   ],
   "source": [
    "sequence"
   ]
  },
  {
   "cell_type": "code",
   "execution_count": 20,
   "id": "d4281e20-f65f-49f8-96fe-2c6e4f97c8b7",
   "metadata": {},
   "outputs": [],
   "source": [
    "#number of training words\n",
    "window_size = 3"
   ]
  },
  {
   "cell_type": "code",
   "execution_count": 24,
   "id": "aa185e9f-2fd6-4cd6-8fb7-05d9faf8c45a",
   "metadata": {},
   "outputs": [],
   "source": [
    "# Generate sliding windows of size `window_size`\n",
    "train_data = [np.array(sequence[i:i+window_size]).reshape(1, -1) for i in range(sequence.shape[0] - window_size)]\n",
    "\n",
    "# Repeat the sliding windows 10 times and combine into a single array\n",
    "train_data = np.concatenate(train_data * 10, axis=0)\n",
    "\n",
    "# Reshape to 3D format for RNN input (samples, time steps, features)\n",
    "train_data = train_data.reshape(train_data.shape[0], train_data.shape[1], 1)"
   ]
  },
  {
   "cell_type": "code",
   "execution_count": 26,
   "id": "ea668822-7c11-40df-be95-b80a44db4174",
   "metadata": {},
   "outputs": [
    {
     "data": {
      "text/plain": [
       "(70, 3, 1)"
      ]
     },
     "execution_count": 26,
     "metadata": {},
     "output_type": "execute_result"
    }
   ],
   "source": [
    "train_data.shape"
   ]
  },
  {
   "cell_type": "code",
   "execution_count": 28,
   "id": "ec02c5b8-50db-44ba-8941-11ab05fcbfa1",
   "metadata": {},
   "outputs": [],
   "source": [
    "#getting the labels\n",
    "train_label = [sequence[i+window_size] for i in range(sequence.shape[0] - window_size)]\n",
    "train_label = np.concatenate([train_label]*10).reshape(-1,1)"
   ]
  },
  {
   "cell_type": "code",
   "execution_count": 32,
   "id": "44984bfa-762d-4dcc-8ffa-28258f7e258f",
   "metadata": {},
   "outputs": [
    {
     "data": {
      "text/plain": [
       "array([[3.],\n",
       "       [4.],\n",
       "       [5.]])"
      ]
     },
     "execution_count": 32,
     "metadata": {},
     "output_type": "execute_result"
    }
   ],
   "source": [
    "train_label[0:3]"
   ]
  },
  {
   "cell_type": "markdown",
   "id": "f20fce90-950b-4d92-9ef0-32049af06198",
   "metadata": {},
   "source": [
    "Step-by-Step:\n",
    "For i = 0:\n",
    "\n",
    "Window: sequence[0:3] → [0., 1., 2.]\n",
    "Label: sequence[0 + 3] → sequence[3] → 3.0\n",
    "For i = 1:\n",
    "\n",
    "Window: sequence[1:4] → [1., 2., 3.]\n",
    "Label: sequence[1 + 3] → sequence[4] → 4.0\n",
    "For i = 2:\n",
    "\n",
    "Window: sequence[2:5] → [2., 3., 4.]\n",
    "Label: sequence[2 + 3] → sequence[5] → 5.0"
   ]
  },
  {
   "cell_type": "code",
   "execution_count": null,
   "id": "6505c5ba-db80-49ed-b417-1cbb9825f655",
   "metadata": {},
   "outputs": [],
   "source": []
  }
 ],
 "metadata": {
  "kernelspec": {
   "display_name": "Python 3 (ipykernel)",
   "language": "python",
   "name": "python3"
  },
  "language_info": {
   "codemirror_mode": {
    "name": "ipython",
    "version": 3
   },
   "file_extension": ".py",
   "mimetype": "text/x-python",
   "name": "python",
   "nbconvert_exporter": "python",
   "pygments_lexer": "ipython3",
   "version": "3.12.4"
  }
 },
 "nbformat": 4,
 "nbformat_minor": 5
}
